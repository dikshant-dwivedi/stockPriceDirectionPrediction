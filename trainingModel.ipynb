{
  "nbformat": 4,
  "nbformat_minor": 0,
  "metadata": {
    "colab": {
      "name": "trainingCNN_DIKSHANT_1.ipynb",
      "provenance": [],
      "collapsed_sections": []
    },
    "kernelspec": {
      "name": "python3",
      "display_name": "Python 3"
    },
    "language_info": {
      "name": "python"
    }
  },
  "cells": [
    {
      "cell_type": "code",
      "metadata": {
        "colab": {
          "base_uri": "https://localhost:8080/"
        },
        "id": "havSiCBd5Xc-",
        "outputId": "12ca9e5e-bbc6-4e09-9210-980a6f6cae7b"
      },
      "source": [
        "from google.colab import drive\n",
        "drive.mount('/content/gdrive')"
      ],
      "execution_count": null,
      "outputs": [
        {
          "output_type": "stream",
          "name": "stdout",
          "text": [
            "Mounted at /content/gdrive\n"
          ]
        }
      ]
    },
    {
      "cell_type": "code",
      "metadata": {
        "id": "0XsNjtaD59pp"
      },
      "source": [
        "ROOT_PATH = \"/content/gdrive/MyDrive/projectAI/\"\n",
        "\n",
        "PRICE_TYPE = \"closePrice/\" #closePrice/ or midPrice/\n",
        "DATA_TYPE = \"pcaNormalizedData/\" #taNormalizedData/ pcaNormalizedData/ kBestTaNormalizedData\n",
        "LABELING_STRATEGY = \"labelingStrategy2/\" #labelingStrategy1/ labelingStrategy2/\n",
        "IMAGE_TYPE = \"normalImages/\" #gafImages/ mtfImages/ normalImages\n",
        "\n",
        "PATH_LABELS = ROOT_PATH + PRICE_TYPE + DATA_TYPE + LABELING_STRATEGY\n",
        "PATH_IMAGES = PATH_LABELS + IMAGE_TYPE\n",
        "PATH_TRAIN_IMAGES = PATH_IMAGES + \"Train\"\n",
        "PATH_TEST_IMAGES = PATH_IMAGES + \"Test\"\n",
        "PATH_TRAIN_LABELS = PATH_LABELS + \"y_train.csv\"\n",
        "PATH_TEST_LABELS = PATH_LABELS + \"y_test.csv\""
      ],
      "execution_count": null,
      "outputs": []
    },
    {
      "cell_type": "code",
      "metadata": {
        "id": "YeWwemHy5r3D"
      },
      "source": [
        "import tensorflow as tf\n",
        "from tensorflow.keras import datasets,layers, models\n",
        "from tensorflow.keras.layers import *\n",
        "from tensorflow.keras.optimizers import Adam\n",
        "from sklearn.metrics import confusion_matrix , classification_report\n",
        "import matplotlib.pyplot as plt\n",
        "import numpy as np\n",
        "import pandas as pd\n",
        "import cv2\n",
        "import math"
      ],
      "execution_count": null,
      "outputs": []
    },
    {
      "cell_type": "code",
      "metadata": {
        "colab": {
          "base_uri": "https://localhost:8080/"
        },
        "id": "p9QNJ0Zi7-JL",
        "outputId": "e224c2d7-f96c-47ef-dc0f-e0040d377134"
      },
      "source": [
        "import os\n",
        "import sys\n",
        "os.chdir(ROOT_PATH)\n",
        "!pwd\n",
        "ROOT_DIR = os.path.abspath(\"\")\n",
        "print (ROOT_DIR)\n",
        "sys.path.append(ROOT_DIR)"
      ],
      "execution_count": null,
      "outputs": [
        {
          "output_type": "stream",
          "name": "stdout",
          "text": [
            "/content/gdrive/MyDrive/projectAI\n",
            "/content/gdrive/MyDrive/projectAI\n"
          ]
        }
      ]
    },
    {
      "cell_type": "code",
      "metadata": {
        "id": "VuLZxBO58Dnz"
      },
      "source": [
        "def load_images_from_folder(folder):\n",
        "    images = []\n",
        "    for filename in os.listdir(folder):\n",
        "        img = cv2.imread(os.path.join(folder,filename))\n",
        "        if img is not None:\n",
        "            img = cv2.resize(img, (80, 80))\n",
        "            images.append(img)\n",
        "    return images"
      ],
      "execution_count": null,
      "outputs": []
    },
    {
      "cell_type": "code",
      "metadata": {
        "id": "unKEwU6s8KtU"
      },
      "source": [
        "def plt_imshow(title, image):\n",
        "\timage = cv2.cvtColor(image, cv2.COLOR_BGR2RGB)\n",
        "\tplt.imshow(image)\n",
        "\tplt.title(title)\n",
        "\tplt.show()"
      ],
      "execution_count": null,
      "outputs": []
    },
    {
      "cell_type": "code",
      "metadata": {
        "id": "47Z0FoQW8USt"
      },
      "source": [
        "x_train_images = load_images_from_folder(PATH_TRAIN_IMAGES)\n",
        "x_test_images = load_images_from_folder(PATH_TEST_IMAGES)"
      ],
      "execution_count": null,
      "outputs": []
    },
    {
      "cell_type": "code",
      "metadata": {
        "colab": {
          "base_uri": "https://localhost:8080/",
          "height": 545
        },
        "id": "A8umQrXo8iz8",
        "outputId": "2267acde-d860-47e9-f2fa-aacd7dcb9a4a"
      },
      "source": [
        "plt_imshow(\"sample train image\", x_train_images[0])\n",
        "plt_imshow(\"sample test image\", x_test_images[0])"
      ],
      "execution_count": null,
      "outputs": [
        {
          "output_type": "display_data",
          "data": {
            "image/png": "[encoded data removed]",
            "text/plain": [
              "<Figure size 432x288 with 1 Axes>"
            ]
          },
          "metadata": {
            "needs_background": "light"
          }
        },
        {
          "output_type": "display_data",
          "data": {
            "image/png": "[encoded data removed]",
            "text/plain": [
              "<Figure size 432x288 with 1 Axes>"
            ]
          },
          "metadata": {
            "needs_background": "light"
          }
        }
      ]
    },
    {
      "cell_type": "code",
      "metadata": {
        "id": "auuXqG9XCAqo"
      },
      "source": [
        "y_train_df = pd.read_csv(PATH_TRAIN_LABELS)     \n",
        "y_test_df = pd.read_csv(PATH_TEST_LABELS)"
      ],
      "execution_count": null,
      "outputs": []
    },
    {
      "cell_type": "code",
      "metadata": {
        "id": "lsQt4ZHcCM2z"
      },
      "source": [
        "x_train_images = np.array(x_train_images)\n",
        "x_test_images = np.array(x_test_images)\n",
        "y_train = np.uint8(y_train_df[\"y_train\"].to_numpy())\n",
        "y_test = np.uint8(y_test_df[\"y_test\"].to_numpy())"
      ],
      "execution_count": null,
      "outputs": []
    },
    {
      "cell_type": "code",
      "metadata": {
        "colab": {
          "base_uri": "https://localhost:8080/"
        },
        "id": "8oRHKPL6CTy6",
        "outputId": "73a6a4be-d798-4f57-91a1-7fc9d4495738"
      },
      "source": [
        "print(\"x_train_images.shape: \", x_train_images.shape)\n",
        "print(\"x_test_images.shape: \", x_test_images.shape)\n",
        "print(\"y_train.shape: \", y_train.shape)\n",
        "print(\"y_test.shape: \", y_test.shape)"
      ],
      "execution_count": null,
      "outputs": [
        {
          "output_type": "stream",
          "name": "stdout",
          "text": [
            "x_train_images.shape:  (1588, 80, 80, 3)\n",
            "x_test_images.shape:  (397, 80, 80, 3)\n",
            "y_train.shape:  (1588,)\n",
            "y_test.shape:  (397,)\n"
          ]
        }
      ]
    },
    {
      "cell_type": "code",
      "metadata": {
        "colab": {
          "base_uri": "https://localhost:8080/"
        },
        "id": "8oNtjYdncfAw",
        "outputId": "4c9a6b91-6173-4f9b-e503-801f9013c011"
      },
      "source": [
        "# ARCH - 1\n",
        "LR = 0.001\n",
        "cnn = tf.keras.models.Sequential([\n",
        "            Conv2D(32, kernel_size=(3, 3), activation='relu', input_shape=(80, 80, 3)),\n",
        "            MaxPooling2D((2, 2)),\n",
        "            Conv2D(64, kernel_size=(3, 3), activation='relu'),\n",
        "            MaxPooling2D((2, 2)),\n",
        "            Conv2D(64, kernel_size=(3, 3), strides=3, padding='same', activation='relu'),\n",
        "            Flatten(),\n",
        "            Dense(3, activation='softmax')]\n",
        "        )\n",
        "cnn.compile(optimizer=Adam(learning_rate=LR), loss='sparse_categorical_crossentropy', metrics=['accuracy'])\n",
        "cnn.summary()\n",
        "cnn.fit(x_train_images, y_train, epochs=10)"
      ],
      "execution_count": null,
      "outputs": [
        {
          "output_type": "stream",
          "name": "stdout",
          "text": [
            "Model: \"sequential_1\"\n",
            "_________________________________________________________________\n",
            " Layer (type)                Output Shape              Param #   \n",
            "=================================================================\n",
            " conv2d_3 (Conv2D)           (None, 78, 78, 32)        896       \n",
            "                                                                 \n",
            " max_pooling2d_2 (MaxPooling  (None, 39, 39, 32)       0         \n",
            " 2D)                                                             \n",
            "                                                                 \n",
            " conv2d_4 (Conv2D)           (None, 37, 37, 64)        18496     \n",
            "                                                                 \n",
            " max_pooling2d_3 (MaxPooling  (None, 18, 18, 64)       0         \n",
            " 2D)                                                             \n",
            "                                                                 \n",
            " conv2d_5 (Conv2D)           (None, 6, 6, 64)          36928     \n",
            "                                                                 \n",
            " flatten_1 (Flatten)         (None, 2304)              0         \n",
            "                                                                 \n",
            " dense_1 (Dense)             (None, 3)                 6915      \n",
            "                                                                 \n",
            "=================================================================\n",
            "Total params: 63,235\n",
            "Trainable params: 63,235\n",
            "Non-trainable params: 0\n",
            "_________________________________________________________________\n"
          ]
        }
      ]
    },
    {
      "cell_type": "code",
      "metadata": {
        "id": "SZ7IWoHOBqmP",
        "colab": {
          "base_uri": "https://localhost:8080/"
        },
        "outputId": "83e06433-cd1c-49a8-f5da-e17fb3cc87df"
      },
      "source": [
        "y_pred = cnn.predict(x_test_images)\n",
        "y_pred_classes = [np.argmax(element) for element in y_pred]\n",
        "print(\"Classification Report: \\n\", classification_report(y_test, y_pred_classes, digits=3))"
      ],
      "execution_count": null,
      "outputs": [
        {
          "output_type": "stream",
          "name": "stdout",
          "text": [
            "Classification Report: \n",
            "               precision    recall  f1-score   support\n",
            "\n",
            "           0      0.501     1.000     0.668       199\n",
            "           1      0.000     0.000     0.000       103\n",
            "           2      0.000     0.000     0.000        95\n",
            "\n",
            "    accuracy                          0.501       397\n",
            "   macro avg      0.167     0.333     0.223       397\n",
            "weighted avg      0.251     0.501     0.335       397\n",
            "\n"
          ]
        },
        {
          "output_type": "stream",
          "name": "stderr",
          "text": [
            "/usr/local/lib/python3.7/dist-packages/sklearn/metrics/_classification.py:1272: UndefinedMetricWarning: Precision and F-score are ill-defined and being set to 0.0 in labels with no predicted samples. Use `zero_division` parameter to control this behavior.\n",
            "  _warn_prf(average, modifier, msg_start, len(result))\n"
          ]
        }
      ]
    },
    {
      "cell_type": "code",
      "metadata": {
        "colab": {
          "base_uri": "https://localhost:8080/"
        },
        "id": "IKYeZYRmW1Z7",
        "outputId": "27fbe064-cd68-47cd-be28-14701d951a9f"
      },
      "source": [
        "# ARCH - 2\n",
        "LR = 0.001\n",
        "cnn = tf.keras.models.Sequential([\n",
        "            Conv2D(32, kernel_size=(3, 3), activation='relu', input_shape=(80, 80, 3)),\n",
        "            MaxPooling2D((2, 2)),\n",
        "            Conv2D(32, kernel_size=(3, 3), activation='relu'),\n",
        "            Conv2D(64, kernel_size=(3, 3), activation='relu'),\n",
        "            Conv2D(64, kernel_size=(3, 3), activation='relu'),\n",
        "            BatchNormalization(),\n",
        "            Conv2D(128, kernel_size=(3, 3), strides=3, padding = 'same', activation='relu'),\n",
        "            BatchNormalization(),\n",
        "            Dropout(0.4),\n",
        "            Flatten(),\n",
        "            Dense(3, activation='softmax')]\n",
        "        )\n",
        "cnn.compile(optimizer=Adam(learning_rate=LR), loss='sparse_categorical_crossentropy', metrics=['accuracy'])\n",
        "cnn.summary()\n",
        "cnn.fit(x_train_images, y_train, epochs=10)"
      ],
      "execution_count": null,
      "outputs": [
        {
          "output_type": "stream",
          "name": "stdout",
          "text": [
            "Model: \"sequential_3\"\n",
            "_________________________________________________________________\n",
            " Layer (type)                Output Shape              Param #   \n",
            "=================================================================\n",
            " conv2d_13 (Conv2D)          (None, 78, 78, 32)        896       \n",
            "                                                                 \n",
            " max_pooling2d_4 (MaxPooling  (None, 39, 39, 32)       0         \n",
            " 2D)                                                             \n",
            "                                                                 \n",
            " conv2d_14 (Conv2D)          (None, 37, 37, 32)        9248      \n",
            "                                                                 \n",
            " conv2d_15 (Conv2D)          (None, 35, 35, 64)        18496     \n",
            "                                                                 \n",
            " conv2d_16 (Conv2D)          (None, 33, 33, 64)        36928     \n",
            "                                                                 \n",
            " batch_normalization_7 (Batc  (None, 33, 33, 64)       256       \n",
            " hNormalization)                                                 \n",
            "                                                                 \n",
            " conv2d_17 (Conv2D)          (None, 11, 11, 128)       73856     \n",
            "                                                                 \n",
            " batch_normalization_8 (Batc  (None, 11, 11, 128)      512       \n",
            " hNormalization)                                                 \n",
            "                                                                 \n",
            " dropout_3 (Dropout)         (None, 11, 11, 128)       0         \n",
            "                                                                 \n",
            " flatten_3 (Flatten)         (None, 15488)             0         \n",
            "                                                                 \n",
            " dense_3 (Dense)             (None, 3)                 46467     \n",
            "                                                                 \n",
            "=================================================================\n",
            "Total params: 186,659\n",
            "Trainable params: 186,275\n",
            "Non-trainable params: 384\n",
            "_________________________________________________________________\n"
          ]
        }
      ]
    },
    {
      "cell_type": "code",
      "metadata": {
        "id": "0EtlNauPBo71",
        "colab": {
          "base_uri": "https://localhost:8080/"
        },
        "outputId": "8439087d-dbb0-4a16-ef77-8d34ad0d1d87"
      },
      "source": [
        "y_pred = cnn.predict(x_test_images)\n",
        "y_pred_classes = [np.argmax(element) for element in y_pred]\n",
        "print(\"Classification Report: \\n\", classification_report(y_test, y_pred_classes, digits=3))"
      ],
      "execution_count": null,
      "outputs": [
        {
          "output_type": "stream",
          "name": "stdout",
          "text": [
            "Classification Report: \n",
            "               precision    recall  f1-score   support\n",
            "\n",
            "           0      0.487     0.734     0.585       199\n",
            "           1      0.197     0.126     0.154       103\n",
            "           2      0.161     0.053     0.079        95\n",
            "\n",
            "    accuracy                          0.413       397\n",
            "   macro avg      0.282     0.304     0.273       397\n",
            "weighted avg      0.334     0.413     0.352       397\n",
            "\n"
          ]
        }
      ]
    },
    {
      "cell_type": "code",
      "metadata": {
        "colab": {
          "base_uri": "https://localhost:8080/"
        },
        "id": "WT62_jpx9NX-",
        "outputId": "e19d1fd5-1ae4-4c57-ce4f-ba9419e62757"
      },
      "source": [
        "# ARCH - 3\n",
        "LR = 0.001\n",
        "cnn = tf.keras.models.Sequential([\n",
        "                                  \n",
        "            Conv2D(32, kernel_size=(3, 3), activation='relu', input_shape=(80, 80, 3)),\n",
        "            BatchNormalization(),\n",
        "            Conv2D(32, kernel_size=(3, 3), activation='relu'),\n",
        "            BatchNormalization(),\n",
        "            Conv2D(32, kernel_size=(3, 3), strides=3, padding='same', activation='relu'),\n",
        "            BatchNormalization(),\n",
        "            Dropout(0.4),\n",
        "\n",
        "            Conv2D(64, kernel_size=(3, 3), activation='relu'),\n",
        "            BatchNormalization(),\n",
        "            Conv2D(64, kernel_size=(3, 3), activation='relu'),\n",
        "            BatchNormalization(),\n",
        "            Conv2D(64, kernel_size=(3, 3), strides=3, padding='same', activation='relu'),\n",
        "            BatchNormalization(),\n",
        "            Dropout(0.4),\n",
        "\n",
        "            Conv2D(128, kernel_size=4, activation='relu'),\n",
        "            BatchNormalization(),\n",
        "            Flatten(),\n",
        "            Dropout(0.4),\n",
        "            Dense(3, activation='softmax')]\n",
        "        )\n",
        "cnn.compile(optimizer=Adam(learning_rate=LR), loss='sparse_categorical_crossentropy', metrics=['accuracy'])\n",
        "cnn.summary()\n",
        "cnn.fit(x_train_images, y_train, epochs=10)"
      ],
      "execution_count": null,
      "outputs": [
        {
          "output_type": "stream",
          "name": "stdout",
          "text": [
            "Model: \"sequential_2\"\n",
            "_________________________________________________________________\n",
            " Layer (type)                Output Shape              Param #   \n",
            "=================================================================\n",
            " conv2d_6 (Conv2D)           (None, 78, 78, 32)        896       \n",
            "                                                                 \n",
            " batch_normalization (BatchN  (None, 78, 78, 32)       128       \n",
            " ormalization)                                                   \n",
            "                                                                 \n",
            " conv2d_7 (Conv2D)           (None, 76, 76, 32)        9248      \n",
            "                                                                 \n",
            " batch_normalization_1 (Batc  (None, 76, 76, 32)       128       \n",
            " hNormalization)                                                 \n",
            "                                                                 \n",
            " conv2d_8 (Conv2D)           (None, 26, 26, 32)        9248      \n",
            "                                                                 \n",
            " batch_normalization_2 (Batc  (None, 26, 26, 32)       128       \n",
            " hNormalization)                                                 \n",
            "                                                                 \n",
            " dropout (Dropout)           (None, 26, 26, 32)        0         \n",
            "                                                                 \n",
            " conv2d_9 (Conv2D)           (None, 24, 24, 64)        18496     \n",
            "                                                                 \n",
            " batch_normalization_3 (Batc  (None, 24, 24, 64)       256       \n",
            " hNormalization)                                                 \n",
            "                                                                 \n",
            " conv2d_10 (Conv2D)          (None, 22, 22, 64)        36928     \n",
            "                                                                 \n",
            " batch_normalization_4 (Batc  (None, 22, 22, 64)       256       \n",
            " hNormalization)                                                 \n",
            "                                                                 \n",
            " conv2d_11 (Conv2D)          (None, 8, 8, 64)          36928     \n",
            "                                                                 \n",
            " batch_normalization_5 (Batc  (None, 8, 8, 64)         256       \n",
            " hNormalization)                                                 \n",
            "                                                                 \n",
            " dropout_1 (Dropout)         (None, 8, 8, 64)          0         \n",
            "                                                                 \n",
            " conv2d_12 (Conv2D)          (None, 5, 5, 128)         131200    \n",
            "                                                                 \n",
            " batch_normalization_6 (Batc  (None, 5, 5, 128)        512       \n",
            " hNormalization)                                                 \n",
            "                                                                 \n",
            " flatten_2 (Flatten)         (None, 3200)              0         \n",
            "                                                                 \n",
            " dropout_2 (Dropout)         (None, 3200)              0         \n",
            "                                                                 \n",
            " dense_2 (Dense)             (None, 3)                 9603      \n",
            "                                                                 \n",
            "=================================================================\n",
            "Total params: 254,211\n",
            "Trainable params: 253,379\n",
            "Non-trainable params: 832\n",
            "_________________________________________________________________\n"
          ]
        }
      ]
    },
    {
      "cell_type": "code",
      "metadata": {
        "colab": {
          "base_uri": "https://localhost:8080/"
        },
        "id": "fj7_JORkDjjD",
        "outputId": "27a19805-9074-422a-b505-c6cf55836ed1"
      },
      "source": [
        "y_pred = cnn.predict(x_test_images)\n",
        "y_pred_classes = [np.argmax(element) for element in y_pred]\n",
        "print(\"Classification Report: \\n\", classification_report(y_test, y_pred_classes, digits=3))"
      ],
      "execution_count": null,
      "outputs": [
        {
          "output_type": "stream",
          "name": "stdout",
          "text": [
            "Classification Report: \n",
            "               precision    recall  f1-score   support\n",
            "\n",
            "           0      0.541     0.623     0.579       199\n",
            "           1      0.303     0.485     0.373       103\n",
            "           2      0.000     0.000     0.000        95\n",
            "\n",
            "    accuracy                          0.438       397\n",
            "   macro avg      0.282     0.370     0.318       397\n",
            "weighted avg      0.350     0.438     0.387       397\n",
            "\n"
          ]
        }
      ]
    }
  ]
}